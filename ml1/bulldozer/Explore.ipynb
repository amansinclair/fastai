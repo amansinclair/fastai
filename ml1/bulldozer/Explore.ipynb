{
 "cells": [
  {
   "cell_type": "code",
   "execution_count": 1,
   "metadata": {},
   "outputs": [],
   "source": [
    "%load_ext autoreload\n",
    "%autoreload 2"
   ]
  },
  {
   "cell_type": "code",
   "execution_count": 43,
   "metadata": {},
   "outputs": [],
   "source": [
    "import pandas as pd\n",
    "import numpy as np\n",
    "import matplotlib.pyplot as plt\n",
    "from sklearn.preprocessing import LabelEncoder"
   ]
  },
  {
   "cell_type": "code",
   "execution_count": 122,
   "metadata": {},
   "outputs": [
    {
     "name": "stdout",
     "output_type": "stream",
     "text": [
      "CPU times: user 828 ms, sys: 216 ms, total: 1.04 s\n",
      "Wall time: 1.04 s\n"
     ]
    }
   ],
   "source": [
    "%time df_train = pd.read_pickle(\"./data/Train.pkl\")"
   ]
  },
  {
   "cell_type": "code",
   "execution_count": 123,
   "metadata": {},
   "outputs": [
    {
     "data": {
      "text/plain": [
       "Index(['SalesID', 'SalePrice', 'MachineID', 'ModelID', 'datasource',\n",
       "       'auctioneerID', 'YearMade', 'MachineHoursCurrentMeter', 'UsageBand',\n",
       "       'saledate', 'fiModelDesc', 'fiBaseModel', 'fiSecondaryDesc',\n",
       "       'fiModelSeries', 'fiModelDescriptor', 'ProductSize',\n",
       "       'fiProductClassDesc', 'state', 'ProductGroup', 'ProductGroupDesc',\n",
       "       'Drive_System', 'Enclosure', 'Forks', 'Pad_Type', 'Ride_Control',\n",
       "       'Stick', 'Transmission', 'Turbocharged', 'Blade_Extension',\n",
       "       'Blade_Width', 'Enclosure_Type', 'Engine_Horsepower', 'Hydraulics',\n",
       "       'Pushblock', 'Ripper', 'Scarifier', 'Tip_Control', 'Tire_Size',\n",
       "       'Coupler', 'Coupler_System', 'Grouser_Tracks', 'Hydraulics_Flow',\n",
       "       'Track_Type', 'Undercarriage_Pad_Width', 'Stick_Length', 'Thumb',\n",
       "       'Pattern_Changer', 'Grouser_Type', 'Backhoe_Mounting', 'Blade_Type',\n",
       "       'Travel_Controls', 'Differential_Type', 'Steering_Controls'],\n",
       "      dtype='object')"
      ]
     },
     "execution_count": 123,
     "metadata": {},
     "output_type": "execute_result"
    }
   ],
   "source": [
    "df_train.columns"
   ]
  },
  {
   "cell_type": "code",
   "execution_count": 124,
   "metadata": {},
   "outputs": [],
   "source": [
    "y = df_train[\"SalePrice\"].copy()"
   ]
  },
  {
   "cell_type": "code",
   "execution_count": 125,
   "metadata": {},
   "outputs": [],
   "source": [
    "df_train.drop([\"SalePrice\"], axis=1, inplace=True)"
   ]
  },
  {
   "cell_type": "code",
   "execution_count": 126,
   "metadata": {},
   "outputs": [
    {
     "name": "stdout",
     "output_type": "stream",
     "text": [
      "0         66000\n",
      "1         57000\n",
      "2         10000\n",
      "3         38500\n",
      "4         11000\n",
      "          ...  \n",
      "401120    10500\n",
      "401121    11000\n",
      "401122    11500\n",
      "401123     9000\n",
      "401124     7750\n",
      "Name: SalePrice, Length: 401125, dtype: int64\n"
     ]
    }
   ],
   "source": [
    "print(y)"
   ]
  },
  {
   "cell_type": "code",
   "execution_count": 127,
   "metadata": {},
   "outputs": [],
   "source": [
    "def convert_to_cat(df):\n",
    "    for col in df.columns:\n",
    "        if df[col].dtype == \"object\":\n",
    "            df[col] = df[col].astype(\"category\")\n",
    "            df[col] = df[col].cat.codes"
   ]
  },
  {
   "cell_type": "code",
   "execution_count": 128,
   "metadata": {},
   "outputs": [],
   "source": [
    "convert_to_cat(df_train)"
   ]
  },
  {
   "cell_type": "code",
   "execution_count": 129,
   "metadata": {},
   "outputs": [],
   "source": [
    "def fill_numerical(df):\n",
    "    for col in df.columns:\n",
    "        if df[col].dtype == \"float64\":\n",
    "            df[col].fillna(df[col].median(), inplace=True)"
   ]
  },
  {
   "cell_type": "code",
   "execution_count": 130,
   "metadata": {},
   "outputs": [],
   "source": [
    "fill_numerical(df_train)"
   ]
  },
  {
   "cell_type": "code",
   "execution_count": 131,
   "metadata": {},
   "outputs": [],
   "source": [
    "df_train[\"saledate\"] = df_train[\"saledate\"].apply(lambda x : int(x.timestamp()))"
   ]
  },
  {
   "cell_type": "code",
   "execution_count": 132,
   "metadata": {},
   "outputs": [
    {
     "name": "stdout",
     "output_type": "stream",
     "text": [
      "<class 'pandas.core.frame.DataFrame'>\n",
      "RangeIndex: 401125 entries, 0 to 401124\n",
      "Data columns (total 52 columns):\n",
      " #   Column                    Non-Null Count   Dtype  \n",
      "---  ------                    --------------   -----  \n",
      " 0   SalesID                   401125 non-null  int64  \n",
      " 1   MachineID                 401125 non-null  int64  \n",
      " 2   ModelID                   401125 non-null  int64  \n",
      " 3   datasource                401125 non-null  int64  \n",
      " 4   auctioneerID              401125 non-null  float64\n",
      " 5   YearMade                  401125 non-null  int64  \n",
      " 6   MachineHoursCurrentMeter  401125 non-null  float64\n",
      " 7   UsageBand                 401125 non-null  int8   \n",
      " 8   saledate                  401125 non-null  int64  \n",
      " 9   fiModelDesc               401125 non-null  int16  \n",
      " 10  fiBaseModel               401125 non-null  int16  \n",
      " 11  fiSecondaryDesc           401125 non-null  int16  \n",
      " 12  fiModelSeries             401125 non-null  int16  \n",
      " 13  fiModelDescriptor         401125 non-null  int16  \n",
      " 14  ProductSize               401125 non-null  int8   \n",
      " 15  fiProductClassDesc        401125 non-null  int8   \n",
      " 16  state                     401125 non-null  int8   \n",
      " 17  ProductGroup              401125 non-null  int8   \n",
      " 18  ProductGroupDesc          401125 non-null  int8   \n",
      " 19  Drive_System              401125 non-null  int8   \n",
      " 20  Enclosure                 401125 non-null  int8   \n",
      " 21  Forks                     401125 non-null  int8   \n",
      " 22  Pad_Type                  401125 non-null  int8   \n",
      " 23  Ride_Control              401125 non-null  int8   \n",
      " 24  Stick                     401125 non-null  int8   \n",
      " 25  Transmission              401125 non-null  int8   \n",
      " 26  Turbocharged              401125 non-null  int8   \n",
      " 27  Blade_Extension           401125 non-null  int8   \n",
      " 28  Blade_Width               401125 non-null  int8   \n",
      " 29  Enclosure_Type            401125 non-null  int8   \n",
      " 30  Engine_Horsepower         401125 non-null  int8   \n",
      " 31  Hydraulics                401125 non-null  int8   \n",
      " 32  Pushblock                 401125 non-null  int8   \n",
      " 33  Ripper                    401125 non-null  int8   \n",
      " 34  Scarifier                 401125 non-null  int8   \n",
      " 35  Tip_Control               401125 non-null  int8   \n",
      " 36  Tire_Size                 401125 non-null  int8   \n",
      " 37  Coupler                   401125 non-null  int8   \n",
      " 38  Coupler_System            401125 non-null  int8   \n",
      " 39  Grouser_Tracks            401125 non-null  int8   \n",
      " 40  Hydraulics_Flow           401125 non-null  int8   \n",
      " 41  Track_Type                401125 non-null  int8   \n",
      " 42  Undercarriage_Pad_Width   401125 non-null  int8   \n",
      " 43  Stick_Length              401125 non-null  int8   \n",
      " 44  Thumb                     401125 non-null  int8   \n",
      " 45  Pattern_Changer           401125 non-null  int8   \n",
      " 46  Grouser_Type              401125 non-null  int8   \n",
      " 47  Backhoe_Mounting          401125 non-null  int8   \n",
      " 48  Blade_Type                401125 non-null  int8   \n",
      " 49  Travel_Controls           401125 non-null  int8   \n",
      " 50  Differential_Type         401125 non-null  int8   \n",
      " 51  Steering_Controls         401125 non-null  int8   \n",
      "dtypes: float64(2), int16(5), int64(6), int8(39)\n",
      "memory usage: 43.2 MB\n"
     ]
    }
   ],
   "source": [
    "df_train.info()"
   ]
  },
  {
   "cell_type": "code",
   "execution_count": 133,
   "metadata": {},
   "outputs": [],
   "source": [
    "from sklearn.ensemble import RandomForestRegressor as RFR "
   ]
  },
  {
   "cell_type": "code",
   "execution_count": 134,
   "metadata": {},
   "outputs": [],
   "source": [
    "rfr = RFR(n_estimators=20)"
   ]
  },
  {
   "cell_type": "code",
   "execution_count": 136,
   "metadata": {},
   "outputs": [],
   "source": [
    "preds = rfr.fit(df_train[0:50000], y[0:50000])"
   ]
  },
  {
   "cell_type": "code",
   "execution_count": 137,
   "metadata": {},
   "outputs": [],
   "source": [
    "val = df_train.iloc[0:10, :]"
   ]
  },
  {
   "cell_type": "code",
   "execution_count": 138,
   "metadata": {},
   "outputs": [],
   "source": [
    "preds = rfr.predict(val)"
   ]
  },
  {
   "cell_type": "code",
   "execution_count": 139,
   "metadata": {},
   "outputs": [
    {
     "name": "stdout",
     "output_type": "stream",
     "text": [
      "[66100.  57500.  10700.  34100.  11987.5 26100.  21825.  28525.  22225.\n",
      " 54725. ]\n"
     ]
    }
   ],
   "source": [
    "print(preds)"
   ]
  },
  {
   "cell_type": "code",
   "execution_count": 140,
   "metadata": {},
   "outputs": [
    {
     "name": "stdout",
     "output_type": "stream",
     "text": [
      "0    66000\n",
      "1    57000\n",
      "2    10000\n",
      "3    38500\n",
      "4    11000\n",
      "5    26500\n",
      "6    21000\n",
      "7    27000\n",
      "8    21500\n",
      "9    65000\n",
      "Name: SalePrice, dtype: int64\n"
     ]
    }
   ],
   "source": [
    "print(y[0:10])"
   ]
  },
  {
   "cell_type": "code",
   "execution_count": 144,
   "metadata": {},
   "outputs": [
    {
     "name": "stdout",
     "output_type": "stream",
     "text": [
      "3610.438425593213\n"
     ]
    }
   ],
   "source": [
    "print((np.mean((preds - y[0:10])**2))**0.5)"
   ]
  },
  {
   "cell_type": "code",
   "execution_count": null,
   "metadata": {},
   "outputs": [],
   "source": []
  }
 ],
 "metadata": {
  "kernelspec": {
   "display_name": "Python 3",
   "language": "python",
   "name": "python3"
  },
  "language_info": {
   "codemirror_mode": {
    "name": "ipython",
    "version": 3
   },
   "file_extension": ".py",
   "mimetype": "text/x-python",
   "name": "python",
   "nbconvert_exporter": "python",
   "pygments_lexer": "ipython3",
   "version": "3.6.9"
  }
 },
 "nbformat": 4,
 "nbformat_minor": 4
}
