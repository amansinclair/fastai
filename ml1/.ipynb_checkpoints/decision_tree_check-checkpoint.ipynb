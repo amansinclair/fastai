{
 "cells": [
  {
   "cell_type": "code",
   "execution_count": 1,
   "metadata": {},
   "outputs": [],
   "source": [
    "%load_ext autoreload\n",
    "%autoreload 2"
   ]
  },
  {
   "cell_type": "code",
   "execution_count": 33,
   "metadata": {},
   "outputs": [],
   "source": [
    "import numpy as np\n",
    "from ml1 import DecisionTree as Tree\n",
    "from sklearn.tree import DecisionTreeRegressor as STree\n",
    "import sklearn"
   ]
  },
  {
   "cell_type": "code",
   "execution_count": 53,
   "metadata": {},
   "outputs": [],
   "source": [
    "max_depth=3\n",
    "tree = Tree(max_depth)\n",
    "stree = STree(max_depth=max_depth)"
   ]
  },
  {
   "cell_type": "code",
   "execution_count": 54,
   "metadata": {},
   "outputs": [],
   "source": [
    "X = np.random.rand(20, 10)\n",
    "y = np.random.rand(20)"
   ]
  },
  {
   "cell_type": "code",
   "execution_count": 55,
   "metadata": {},
   "outputs": [
    {
     "name": "stdout",
     "output_type": "stream",
     "text": [
      "CPU times: user 50.4 ms, sys: 8.14 ms, total: 58.5 ms\n",
      "Wall time: 57.1 ms\n",
      "Node((0,0), feature:8, breakpoint<=:0.917, mse:0.075, samples:20, value:0.579\n",
      "├── Node((1, 0), feature:6, breakpoint<=:0.400, mse:0.060, samples:16, value:0.512\n",
      "│   ├── Node((2, 0), feature:1, breakpoint<=:0.884, mse:0.089, samples:5, value:0.696\n",
      "│   │   ├── Node((3, 0), mse:0.020, samples:4, value:0.830\n",
      "│   │   └── Node((3, 1), mse:0.000, samples:1, value:0.157\n",
      "│   └── Node((2, 1), feature:0, breakpoint<=:0.110, mse:0.025, samples:11, value:0.428\n",
      "│       ├── Node((3, 2), mse:0.000, samples:1, value:0.842\n",
      "│       └── Node((3, 3), mse:0.009, samples:10, value:0.387\n",
      "└── Node((1, 1), feature:0, breakpoint<=:0.888, mse:0.046, samples:4, value:0.845\n",
      "    ├── Node((2, 2), feature:0, breakpoint<=:0.463, mse:0.000, samples:3, value:0.969\n",
      "    │   ├── Node((3, 4), mse:0.000, samples:1, value:0.950\n",
      "    │   └── Node((3, 5), mse:0.000, samples:2, value:0.979\n",
      "    └── Node((2, 3), mse:0.000, samples:1, value:0.474\n"
     ]
    }
   ],
   "source": [
    "%time tree.fit(X, y)\n",
    "print(tree)"
   ]
  },
  {
   "cell_type": "code",
   "execution_count": 56,
   "metadata": {},
   "outputs": [
    {
     "name": "stdout",
     "output_type": "stream",
     "text": [
      "CPU times: user 832 µs, sys: 44 µs, total: 876 µs\n",
      "Wall time: 906 µs\n"
     ]
    },
    {
     "data": {
      "text/plain": [
       "DecisionTreeRegressor(ccp_alpha=0.0, criterion='mse', max_depth=3,\n",
       "                      max_features=None, max_leaf_nodes=None,\n",
       "                      min_impurity_decrease=0.0, min_impurity_split=None,\n",
       "                      min_samples_leaf=1, min_samples_split=2,\n",
       "                      min_weight_fraction_leaf=0.0, presort='deprecated',\n",
       "                      random_state=None, splitter='best')"
      ]
     },
     "execution_count": 56,
     "metadata": {},
     "output_type": "execute_result"
    }
   ],
   "source": [
    "%time stree.fit(X, y)"
   ]
  },
  {
   "cell_type": "code",
   "execution_count": 57,
   "metadata": {},
   "outputs": [
    {
     "data": {
      "text/plain": [
       "[Text(193.15384615384616, 190.26, 'X[8] <= 0.917\\nmse = 0.075\\nsamples = 20\\nvalue = 0.579'),\n",
       " Text(103.01538461538462, 135.9, 'X[6] <= 0.4\\nmse = 0.06\\nsamples = 16\\nvalue = 0.512'),\n",
       " Text(51.50769230769231, 81.53999999999999, 'X[6] <= 0.183\\nmse = 0.089\\nsamples = 5\\nvalue = 0.696'),\n",
       " Text(25.753846153846155, 27.180000000000007, 'mse = 0.0\\nsamples = 1\\nvalue = 0.157'),\n",
       " Text(77.26153846153846, 27.180000000000007, 'mse = 0.02\\nsamples = 4\\nvalue = 0.83'),\n",
       " Text(154.52307692307693, 81.53999999999999, 'X[3] <= 0.716\\nmse = 0.025\\nsamples = 11\\nvalue = 0.428'),\n",
       " Text(128.76923076923077, 27.180000000000007, 'mse = 0.009\\nsamples = 10\\nvalue = 0.387'),\n",
       " Text(180.27692307692308, 27.180000000000007, 'mse = 0.0\\nsamples = 1\\nvalue = 0.842'),\n",
       " Text(283.2923076923077, 135.9, 'X[7] <= 0.539\\nmse = 0.046\\nsamples = 4\\nvalue = 0.845'),\n",
       " Text(257.53846153846155, 81.53999999999999, 'X[0] <= 0.463\\nmse = 0.0\\nsamples = 3\\nvalue = 0.969'),\n",
       " Text(231.7846153846154, 27.180000000000007, 'mse = 0.0\\nsamples = 1\\nvalue = 0.95'),\n",
       " Text(283.2923076923077, 27.180000000000007, 'mse = 0.0\\nsamples = 2\\nvalue = 0.979'),\n",
       " Text(309.04615384615386, 81.53999999999999, 'mse = 0.0\\nsamples = 1\\nvalue = 0.474')]"
      ]
     },
     "execution_count": 57,
     "metadata": {},
     "output_type": "execute_result"
    },
    {
     "data": {
      "image/png": "[encoded data removed]",
      "text/plain": [
       "<Figure size 432x288 with 1 Axes>"
      ]
     },
     "metadata": {
      "needs_background": "light"
     },
     "output_type": "display_data"
    }
   ],
   "source": [
    "sklearn.tree.plot_tree(stree)"
   ]
  },
  {
   "cell_type": "code",
   "execution_count": 58,
   "metadata": {},
   "outputs": [],
   "source": [
    "x_test = np.random.rand(5, 10)"
   ]
  },
  {
   "cell_type": "code",
   "execution_count": 59,
   "metadata": {},
   "outputs": [],
   "source": [
    "yp_tree = tree.predict(x_test)\n",
    "yp_stree = stree.predict(x_test)"
   ]
  },
  {
   "cell_type": "code",
   "execution_count": 60,
   "metadata": {},
   "outputs": [
    {
     "name": "stdout",
     "output_type": "stream",
     "text": [
      "[0.83030106 0.3868988  0.83030106 0.47412004 0.3868988 ]\n",
      "[0.83030106 0.3868988  0.83030106 0.97875952 0.3868988 ]\n"
     ]
    }
   ],
   "source": [
    "print(yp_tree)\n",
    "print(yp_stree)"
   ]
  },
  {
   "cell_type": "code",
   "execution_count": null,
   "metadata": {},
   "outputs": [],
   "source": []
  }
 ],
 "metadata": {
  "kernelspec": {
   "display_name": "Python 3",
   "language": "python",
   "name": "python3"
  },
  "language_info": {
   "codemirror_mode": {
    "name": "ipython",
    "version": 3
   },
   "file_extension": ".py",
   "mimetype": "text/x-python",
   "name": "python",
   "nbconvert_exporter": "python",
   "pygments_lexer": "ipython3",
   "version": "3.6.9"
  }
 },
 "nbformat": 4,
 "nbformat_minor": 4
}
