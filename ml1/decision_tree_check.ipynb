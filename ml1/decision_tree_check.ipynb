{
 "cells": [
  {
   "cell_type": "code",
   "execution_count": 1,
   "metadata": {},
   "outputs": [],
   "source": [
    "%load_ext autoreload\n",
    "%autoreload 2"
   ]
  },
  {
   "cell_type": "code",
   "execution_count": 15,
   "metadata": {},
   "outputs": [],
   "source": [
    "import numpy as np\n",
    "from ml1 import DecisionTree as Tree\n",
    "from sklearn.tree import DecisionTreeRegressor as STree\n",
    "import sklearn"
   ]
  },
  {
   "cell_type": "code",
   "execution_count": 16,
   "metadata": {},
   "outputs": [],
   "source": [
    "max_depth=3\n",
    "tree = Tree(max_depth)\n",
    "stree = STree(max_depth=max_depth)"
   ]
  },
  {
   "cell_type": "code",
   "execution_count": 17,
   "metadata": {},
   "outputs": [],
   "source": [
    "X = np.random.rand(20, 10)\n",
    "y = np.random.rand(20)"
   ]
  },
  {
   "cell_type": "code",
   "execution_count": 18,
   "metadata": {},
   "outputs": [
    {
     "name": "stdout",
     "output_type": "stream",
     "text": [
      "Wall time: 37.2 ms\n",
      "Node((0,0), feature:0, breakpoint<=:0.024, mse:0.068, samples:20, value:0.621\n",
      "├── Node((1, 0), mse:0.000, samples:1, value:0.022\n",
      "└── Node((1, 1), feature:2, breakpoint<=:0.465, mse:0.052, samples:19, value:0.652\n",
      "    ├── Node((2, 0), feature:2, breakpoint<=:0.233, mse:0.044, samples:7, value:0.449\n",
      "    │   ├── Node((3, 0), mse:0.007, samples:3, value:0.628\n",
      "    │   └── Node((3, 1), mse:0.029, samples:4, value:0.315\n",
      "    └── Node((2, 1), feature:0, breakpoint<=:0.355, mse:0.019, samples:12, value:0.771\n",
      "        ├── Node((3, 2), mse:0.016, samples:4, value:0.627\n",
      "        └── Node((3, 3), mse:0.004, samples:8, value:0.842\n"
     ]
    }
   ],
   "source": [
    "%time tree.fit(X, y)\n",
    "print(tree)"
   ]
  },
  {
   "cell_type": "code",
   "execution_count": 19,
   "metadata": {},
   "outputs": [
    {
     "name": "stdout",
     "output_type": "stream",
     "text": [
      "Wall time: 0 ns\n"
     ]
    },
    {
     "data": {
      "text/plain": [
       "DecisionTreeRegressor(ccp_alpha=0.0, criterion='mse', max_depth=3,\n",
       "                      max_features=None, max_leaf_nodes=None,\n",
       "                      min_impurity_decrease=0.0, min_impurity_split=None,\n",
       "                      min_samples_leaf=1, min_samples_split=2,\n",
       "                      min_weight_fraction_leaf=0.0, presort='deprecated',\n",
       "                      random_state=None, splitter='best')"
      ]
     },
     "execution_count": 19,
     "metadata": {},
     "output_type": "execute_result"
    }
   ],
   "source": [
    "%time stree.fit(X, y)"
   ]
  },
  {
   "cell_type": "code",
   "execution_count": 20,
   "metadata": {},
   "outputs": [
    {
     "data": {
      "text/plain": [
       "[Text(125.55000000000001, 190.26, 'X[0] <= 0.024\\nmse = 0.068\\nsamples = 20\\nvalue = 0.621'),\n",
       " Text(83.7, 135.9, 'mse = 0.0\\nsamples = 1\\nvalue = 0.022'),\n",
       " Text(167.4, 135.9, 'X[2] <= 0.465\\nmse = 0.052\\nsamples = 19\\nvalue = 0.652'),\n",
       " Text(83.7, 81.53999999999999, 'X[2] <= 0.233\\nmse = 0.044\\nsamples = 7\\nvalue = 0.449'),\n",
       " Text(41.85, 27.180000000000007, 'mse = 0.007\\nsamples = 3\\nvalue = 0.628'),\n",
       " Text(125.55000000000001, 27.180000000000007, 'mse = 0.029\\nsamples = 4\\nvalue = 0.315'),\n",
       " Text(251.10000000000002, 81.53999999999999, 'X[0] <= 0.355\\nmse = 0.019\\nsamples = 12\\nvalue = 0.771'),\n",
       " Text(209.25, 27.180000000000007, 'mse = 0.016\\nsamples = 4\\nvalue = 0.627'),\n",
       " Text(292.95, 27.180000000000007, 'mse = 0.004\\nsamples = 8\\nvalue = 0.842')]"
      ]
     },
     "execution_count": 20,
     "metadata": {},
     "output_type": "execute_result"
    },
    {
     "data": {
      "image/png": "[encoded data removed]",
      "text/plain": [
       "<Figure size 432x288 with 1 Axes>"
      ]
     },
     "metadata": {
      "needs_background": "light"
     },
     "output_type": "display_data"
    }
   ],
   "source": [
    "sklearn.tree.plot_tree(stree)"
   ]
  },
  {
   "cell_type": "code",
   "execution_count": 21,
   "metadata": {},
   "outputs": [],
   "source": [
    "x_test = np.random.rand(5, 10)"
   ]
  },
  {
   "cell_type": "code",
   "execution_count": 22,
   "metadata": {},
   "outputs": [],
   "source": [
    "yp_tree = tree.predict(x_test)\n",
    "yp_stree = stree.predict(x_test)"
   ]
  },
  {
   "cell_type": "code",
   "execution_count": 23,
   "metadata": {},
   "outputs": [
    {
     "name": "stdout",
     "output_type": "stream",
     "text": [
      "[0.84249558 0.84249558 0.6265611  0.84249558 0.6265611 ]\n",
      "[0.84249558 0.84249558 0.6265611  0.84249558 0.6265611 ]\n"
     ]
    }
   ],
   "source": [
    "print(yp_tree)\n",
    "print(yp_stree)"
   ]
  },
  {
   "cell_type": "code",
   "execution_count": null,
   "metadata": {},
   "outputs": [],
   "source": []
  }
 ],
 "metadata": {
  "kernelspec": {
   "display_name": "Python 3",
   "language": "python",
   "name": "python3"
  },
  "language_info": {
   "codemirror_mode": {
    "name": "ipython",
    "version": 3
   },
   "file_extension": ".py",
   "mimetype": "text/x-python",
   "name": "python",
   "nbconvert_exporter": "python",
   "pygments_lexer": "ipython3",
   "version": "3.6.8"
  }
 },
 "nbformat": 4,
 "nbformat_minor": 4
}
