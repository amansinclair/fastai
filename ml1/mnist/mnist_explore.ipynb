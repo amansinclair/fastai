{
 "cells": [
  {
   "cell_type": "code",
   "execution_count": 1,
   "metadata": {},
   "outputs": [],
   "source": [
    "%load_ext autoreload\n",
    "%autoreload 2"
   ]
  },
  {
   "cell_type": "code",
   "execution_count": 6,
   "metadata": {},
   "outputs": [],
   "source": [
    "import os\n",
    "import numpy as np\n",
    "import matplotlib.pyplot as plt\n",
    "import torch\n",
    "import torch.nn as nn\n",
    "import torch.optim as optim\n",
    "#from ml1 import fit, Linear, Sequential, ReLU, LogSoftmax"
   ]
  },
  {
   "cell_type": "code",
   "execution_count": 7,
   "metadata": {},
   "outputs": [],
   "source": [
    "folder = \"data\""
   ]
  },
  {
   "cell_type": "code",
   "execution_count": 8,
   "metadata": {},
   "outputs": [],
   "source": [
    "X_train = np.load(os.path.join(folder, \"X_train.npy\"))\n",
    "y_train = np.load(os.path.join(folder,\"y_train.npy\"))\n",
    "X_valid = np.load(os.path.join(folder,\"X_valid.npy\"))\n",
    "y_valid = np.load(os.path.join(folder,\"y_valid.npy\"))"
   ]
  },
  {
   "cell_type": "code",
   "execution_count": 9,
   "metadata": {},
   "outputs": [],
   "source": [
    "X_traint = torch.as_tensor(X_train)\n",
    "y_traint = torch.as_tensor(y_train)\n",
    "X_validt = torch.as_tensor(X_valid)\n",
    "y_validt = torch.as_tensor(y_valid)"
   ]
  },
  {
   "cell_type": "code",
   "execution_count": 10,
   "metadata": {},
   "outputs": [
    {
     "data": {
      "text/plain": [
       "(torch.int64, dtype('int64'), torch.int64)"
      ]
     },
     "execution_count": 10,
     "metadata": {},
     "output_type": "execute_result"
    }
   ],
   "source": [
    "y_traint.dtype, y_train.dtype, y_validt.dtype"
   ]
  },
  {
   "cell_type": "code",
   "execution_count": 11,
   "metadata": {},
   "outputs": [
    {
     "data": {
      "text/plain": [
       "((50000, 784), (50000,))"
      ]
     },
     "execution_count": 11,
     "metadata": {},
     "output_type": "execute_result"
    }
   ],
   "source": [
    "X_train.shape, y_train.shape"
   ]
  },
  {
   "cell_type": "code",
   "execution_count": 12,
   "metadata": {},
   "outputs": [
    {
     "data": {
      "image/png": "[encoded data removed]",
      "text/plain": [
       "<Figure size 1080x720 with 4 Axes>"
      ]
     },
     "metadata": {
      "needs_background": "light"
     },
     "output_type": "display_data"
    }
   ],
   "source": [
    "fig, ax = plt.subplots(1, 4, figsize=(15 ,10))\n",
    "for i in range(4):\n",
    "    ax[i].set_title(y_train[i])\n",
    "    ax[i].imshow(X_train[i].reshape(-1, 28), cmap=\"gray\")\n",
    "plt.show()"
   ]
  },
  {
   "cell_type": "code",
   "execution_count": 179,
   "metadata": {},
   "outputs": [],
   "source": [
    "def accuracy(preds, y_valid):\n",
    "    values, idxs = preds.max(1)\n",
    "    accuracy = float(torch.sum(idxs == y_valid))\n",
    "    return accuracy"
   ]
  },
  {
   "cell_type": "code",
   "execution_count": 201,
   "metadata": {},
   "outputs": [],
   "source": [
    "def validate(net, X_valid, y_valid, crit):\n",
    "    with torch.no_grad():\n",
    "        preds = net(X_valid)\n",
    "        acc = accuracy(preds, y_valid) / X_valid.shape[0]\n",
    "        loss = crit(preds, y_valid)\n",
    "    return acc, loss"
   ]
  },
  {
   "cell_type": "code",
   "execution_count": 202,
   "metadata": {},
   "outputs": [],
   "source": [
    "def step(net, X_batch, y_batch, crit, opt):\n",
    "    opt.zero_grad()\n",
    "    preds = net(X_batch)\n",
    "    loss = crit(preds, y_batch)\n",
    "    acc = accuracy(preds, y_batch)\n",
    "    loss.backward()\n",
    "    opt.step()\n",
    "    return loss, acc"
   ]
  },
  {
   "cell_type": "code",
   "execution_count": 208,
   "metadata": {},
   "outputs": [],
   "source": [
    "def fit(net, X_train, y_train, X_valid, y_valid, crit, opt, batch_size=100, n_epochs=1):\n",
    "    set_size = X_train.shape[0]\n",
    "    idxs = np.arange(set_size)\n",
    "    n_batches = (set_size // batch_size)\n",
    "    for epoch in range(n_epochs):\n",
    "        np.random.shuffle(idxs)\n",
    "        loss = 0\n",
    "        acc = 0\n",
    "        for batch in range(n_batches):\n",
    "            start = batch * batch_size\n",
    "            batch_idxs = idxs[start: start + batch_size]\n",
    "            X_batch = X_train[batch_idxs]\n",
    "            y_batch = y_train[batch_idxs]\n",
    "            b_loss, b_acc = step(net, X_batch, y_batch, crit, opt)\n",
    "            loss += b_loss\n",
    "            acc += b_acc\n",
    "        loss = loss / n_batches\n",
    "        acc = acc / set_size\n",
    "        acc_loss, val_loss = validate(net, X_valid, y_valid, crit)\n",
    "        print(f\"{epoch + 1} acc:{acc:.3f}, loss:{loss:.3f}, acc:{acc_loss:.3f}, val_loss:{val_loss:.3f}\")"
   ]
  },
  {
   "cell_type": "code",
   "execution_count": 209,
   "metadata": {},
   "outputs": [],
   "source": [
    "def view_some_preds(net, X, y):\n",
    "    with torch.no_grad():\n",
    "        output = net(X)\n",
    "        values, preds = output.max(1)\n",
    "        idxs = np.random.choice(preds.shape[0], size=16,replace=False)\n",
    "        fig, ax = plt.subplots(4,4, figsize=(15, 10))\n",
    "        plot_n = 0\n",
    "        for i in range(4):\n",
    "            for j in range(4):\n",
    "                idx = idxs[plot_n]\n",
    "                ax[i, j].set_title(str(int(preds[idx])) + \"(\" + str(int(y[idx])) + \")\")\n",
    "                ax[i, j].imshow(X[idx].reshape(28, 28), cmap=\"gray\")\n",
    "                ax[i, j].axis(\"off\")\n",
    "                plot_n += 1\n",
    "        plt.show()"
   ]
  },
  {
   "cell_type": "code",
   "execution_count": 210,
   "metadata": {},
   "outputs": [],
   "source": [
    "tnet = nn.Sequential(nn.Linear(28*28, 10), nn.ReLU(), nn.LogSoftmax())\n",
    "crit = nn.NLLLoss()"
   ]
  },
  {
   "cell_type": "code",
   "execution_count": 211,
   "metadata": {},
   "outputs": [],
   "source": [
    "opt = optim.SGD(tnet.parameters(), lr=0.01)"
   ]
  },
  {
   "cell_type": "code",
   "execution_count": 212,
   "metadata": {},
   "outputs": [
    {
     "name": "stdout",
     "output_type": "stream",
     "text": [
      "1 acc:0.741, loss:1.315, acc:0.857, val_loss:0.800\n",
      "2 acc:0.850, loss:0.719, acc:0.878, val_loss:0.583\n",
      "3 acc:0.864, loss:0.587, acc:0.886, val_loss:0.501\n",
      "4 acc:0.872, loss:0.524, acc:0.890, val_loss:0.456\n",
      "5 acc:0.878, loss:0.487, acc:0.894, val_loss:0.428\n",
      "6 acc:0.882, loss:0.461, acc:0.897, val_loss:0.408\n",
      "7 acc:0.885, loss:0.442, acc:0.901, val_loss:0.393\n",
      "8 acc:0.887, loss:0.427, acc:0.903, val_loss:0.381\n",
      "9 acc:0.890, loss:0.415, acc:0.904, val_loss:0.372\n",
      "10 acc:0.891, loss:0.405, acc:0.905, val_loss:0.364\n",
      "11 acc:0.893, loss:0.396, acc:0.905, val_loss:0.357\n",
      "12 acc:0.895, loss:0.389, acc:0.907, val_loss:0.351\n",
      "13 acc:0.896, loss:0.383, acc:0.907, val_loss:0.347\n",
      "14 acc:0.896, loss:0.377, acc:0.908, val_loss:0.342\n",
      "15 acc:0.898, loss:0.372, acc:0.909, val_loss:0.338\n",
      "16 acc:0.899, loss:0.368, acc:0.910, val_loss:0.335\n",
      "17 acc:0.900, loss:0.364, acc:0.911, val_loss:0.331\n",
      "18 acc:0.901, loss:0.360, acc:0.911, val_loss:0.328\n",
      "19 acc:0.902, loss:0.357, acc:0.912, val_loss:0.326\n",
      "20 acc:0.902, loss:0.354, acc:0.912, val_loss:0.323\n"
     ]
    }
   ],
   "source": [
    "fit(tnet, X_traint, y_traint, X_validt, y_validt, crit, opt, n_epochs=20)"
   ]
  },
  {
   "cell_type": "code",
   "execution_count": 21,
   "metadata": {},
   "outputs": [
    {
     "data": {
      "image/png": "[encoded data removed]",
      "text/plain": [
       "<Figure size 1080x720 with 16 Axes>"
      ]
     },
     "metadata": {
      "needs_background": "light"
     },
     "output_type": "display_data"
    }
   ],
   "source": [
    "view_some_preds(tnet, X_traint, y_traint)"
   ]
  },
  {
   "cell_type": "code",
   "execution_count": 213,
   "metadata": {},
   "outputs": [],
   "source": [
    "cnet = nn.Sequential(nn.Conv2d(1, 8, 5), nn.ReLU(), nn.MaxPool2d(4), nn.Flatten(), nn.Linear(288, 10), nn.LogSoftmax())\n",
    "crit = nn.NLLLoss()"
   ]
  },
  {
   "cell_type": "code",
   "execution_count": 214,
   "metadata": {},
   "outputs": [],
   "source": [
    "opt = optim.SGD(cnet.parameters(), lr=0.01)"
   ]
  },
  {
   "cell_type": "code",
   "execution_count": 215,
   "metadata": {},
   "outputs": [],
   "source": [
    "X_trainc = X_traint.view((-1, 1, 28, 28)) \n",
    "X_validc = X_validt.view((-1, 1, 28, 28)) "
   ]
  },
  {
   "cell_type": "code",
   "execution_count": 216,
   "metadata": {},
   "outputs": [
    {
     "name": "stdout",
     "output_type": "stream",
     "text": [
      "1 acc:0.610, loss:1.546, acc:0.863, val_loss:0.625\n",
      "2 acc:0.869, loss:0.501, acc:0.901, val_loss:0.366\n",
      "3 acc:0.899, loss:0.364, acc:0.918, val_loss:0.297\n",
      "4 acc:0.914, loss:0.306, acc:0.929, val_loss:0.257\n",
      "5 acc:0.925, loss:0.268, acc:0.937, val_loss:0.229\n",
      "6 acc:0.931, loss:0.241, acc:0.944, val_loss:0.207\n",
      "7 acc:0.938, loss:0.220, acc:0.949, val_loss:0.191\n",
      "8 acc:0.943, loss:0.203, acc:0.952, val_loss:0.179\n",
      "9 acc:0.946, loss:0.189, acc:0.956, val_loss:0.167\n",
      "10 acc:0.949, loss:0.177, acc:0.959, val_loss:0.157\n"
     ]
    }
   ],
   "source": [
    "fit(cnet, X_trainc, y_traint, X_validc, y_validt, crit, opt, n_epochs=10)"
   ]
  },
  {
   "cell_type": "code",
   "execution_count": 134,
   "metadata": {},
   "outputs": [
    {
     "data": {
      "image/png": "[encoded data removed]",
      "text/plain": [
       "<Figure size 1080x720 with 16 Axes>"
      ]
     },
     "metadata": {
      "needs_background": "light"
     },
     "output_type": "display_data"
    }
   ],
   "source": [
    "view_some_preds(cnet, X_trainc, y_traint)"
   ]
  },
  {
   "cell_type": "code",
   "execution_count": null,
   "metadata": {},
   "outputs": [],
   "source": []
  }
 ],
 "metadata": {
  "kernelspec": {
   "display_name": "Python 3",
   "language": "python",
   "name": "python3"
  },
  "language_info": {
   "codemirror_mode": {
    "name": "ipython",
    "version": 3
   },
   "file_extension": ".py",
   "mimetype": "text/x-python",
   "name": "python",
   "nbconvert_exporter": "python",
   "pygments_lexer": "ipython3",
   "version": "3.6.8"
  }
 },
 "nbformat": 4,
 "nbformat_minor": 4
}
