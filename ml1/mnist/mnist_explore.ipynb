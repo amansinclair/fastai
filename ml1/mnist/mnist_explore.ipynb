{
 "cells": [
  {
   "cell_type": "code",
   "execution_count": 6,
   "metadata": {},
   "outputs": [
    {
     "name": "stdout",
     "output_type": "stream",
     "text": [
      "The autoreload extension is already loaded. To reload it, use:\n",
      "  %reload_ext autoreload\n"
     ]
    }
   ],
   "source": [
    "%load_ext autoreload\n",
    "%autoreload 2"
   ]
  },
  {
   "cell_type": "code",
   "execution_count": 7,
   "metadata": {},
   "outputs": [],
   "source": [
    "import os\n",
    "import numpy as np\n",
    "import matplotlib.pyplot as plt\n",
    "import torch\n",
    "import torch.nn as nn\n",
    "import torch.optim as optim\n",
    "from ml1 import fit, Linear, Sequential, ReLU, LogSoftmax"
   ]
  },
  {
   "cell_type": "code",
   "execution_count": 2,
   "metadata": {},
   "outputs": [],
   "source": [
    "folder = \"data\""
   ]
  },
  {
   "cell_type": "code",
   "execution_count": 118,
   "metadata": {},
   "outputs": [],
   "source": [
    "X_train = np.load(os.path.join(folder, \"X_train.npy\"))\n",
    "y_train = np.load(os.path.join(folder,\"y_train.npy\"))\n",
    "X_valid = np.load(os.path.join(folder,\"X_valid.npy\"))\n",
    "y_valid = np.load(os.path.join(folder,\"y_valid.npy\"))"
   ]
  },
  {
   "cell_type": "code",
   "execution_count": 119,
   "metadata": {},
   "outputs": [],
   "source": [
    "X_traint = torch.as_tensor(X_train)\n",
    "y_traint = torch.as_tensor(y_train)\n",
    "X_validt = torch.as_tensor(X_valid)\n",
    "y_validt = torch.as_tensor(y_valid)"
   ]
  },
  {
   "cell_type": "code",
   "execution_count": 136,
   "metadata": {},
   "outputs": [
    {
     "data": {
      "text/plain": [
       "(torch.int64, dtype('int64'), torch.int64)"
      ]
     },
     "execution_count": 136,
     "metadata": {},
     "output_type": "execute_result"
    }
   ],
   "source": [
    "y_traint.dtype, y_train.dtype, y_validt.dtype"
   ]
  },
  {
   "cell_type": "code",
   "execution_count": 121,
   "metadata": {},
   "outputs": [
    {
     "data": {
      "text/plain": [
       "((50000, 784), (50000,))"
      ]
     },
     "execution_count": 121,
     "metadata": {},
     "output_type": "execute_result"
    }
   ],
   "source": [
    "X_train.shape, y_train.shape"
   ]
  },
  {
   "cell_type": "code",
   "execution_count": 122,
   "metadata": {},
   "outputs": [
    {
     "data": {
      "image/png": "[encoded data removed]",
      "text/plain": [
       "<Figure size 1080x720 with 4 Axes>"
      ]
     },
     "metadata": {
      "needs_background": "light"
     },
     "output_type": "display_data"
    }
   ],
   "source": [
    "fig, ax = plt.subplots(1, 4, figsize=(15 ,10))\n",
    "for i in range(4):\n",
    "    ax[i].set_title(y_train[i])\n",
    "    ax[i].imshow(X_train[i].reshape(-1, 28), cmap=\"gray\")\n",
    "plt.show()"
   ]
  },
  {
   "cell_type": "code",
   "execution_count": 179,
   "metadata": {},
   "outputs": [],
   "source": [
    "def accuracy(preds, y_valid):\n",
    "    values, idxs = preds.max(1)\n",
    "    accuracy = float(torch.sum(idxs == y_valid))\n",
    "    return accuracy"
   ]
  },
  {
   "cell_type": "code",
   "execution_count": 180,
   "metadata": {},
   "outputs": [],
   "source": [
    "def validate(net, X_valid, y_valid, crit):\n",
    "    with torch.no_grad():\n",
    "        loss = crit(net(X_valid), y_valid)\n",
    "    return loss"
   ]
  },
  {
   "cell_type": "code",
   "execution_count": 181,
   "metadata": {},
   "outputs": [],
   "source": [
    "def step(net, X_batch, y_batch, crit, opt):\n",
    "    opt.zero_grad()\n",
    "    preds = net(X_batch)\n",
    "    loss = crit(preds, y_batch)\n",
    "    acc = accuracy(preds, y_batch)\n",
    "    loss.backward()\n",
    "    opt.step()\n",
    "    return loss, acc"
   ]
  },
  {
   "cell_type": "code",
   "execution_count": 223,
   "metadata": {},
   "outputs": [],
   "source": [
    "def fit(net, X_train, y_train, X_valid, y_valid, crit, opt, batch_size=100, n_epochs=1):\n",
    "    set_size = X_train.shape[0]\n",
    "    idxs = np.arange(set_size)\n",
    "    n_batches = (set_size // batch_size)\n",
    "    for epoch in range(n_epochs):\n",
    "        np.random.shuffle(idxs)\n",
    "        loss = 0\n",
    "        acc = 0\n",
    "        for batch in range(n_batches):\n",
    "            start = batch * batch_size\n",
    "            batch_idxs = idxs[start: start + batch_size]\n",
    "            X_batch = X_train[batch_idxs]\n",
    "            y_batch = y_train[batch_idxs]\n",
    "            b_loss, b_acc = step(net, X_batch, y_batch, crit, opt)\n",
    "            loss += b_loss\n",
    "            acc += b_acc\n",
    "        loss = loss / n_batches\n",
    "        acc = acc / n_batches\n",
    "        val_loss = validate(net, X_valid, y_valid, crit)\n",
    "        print(f\"{epoch + 1} acc:{acc:.3f}, loss:{loss:.3f}, val_loss:{val_loss:.3f}\")"
   ]
  },
  {
   "cell_type": "code",
   "execution_count": 205,
   "metadata": {},
   "outputs": [],
   "source": [
    "def view_some_preds(net, X, y):\n",
    "    with torch.no_grad():\n",
    "        output = net(X)\n",
    "        values, preds = output.max(1)\n",
    "        idxs = np.random.choice(preds.shape[0], size=16,replace=False)\n",
    "        fig, ax = plt.subplots(4,4, figsize=(15, 10))\n",
    "        plot_n = 0\n",
    "        for i in range(4):\n",
    "            for j in range(4):\n",
    "                idx = idxs[plot_n]\n",
    "                ax[i, j].set_title(str(int(preds[idx])) + \"(\" + str(int(y[idx])) + \")\")\n",
    "                ax[i, j].imshow(X[idx].reshape(28, 28), cmap=\"gray\")\n",
    "                ax[i, j].axis(\"off\")\n",
    "                plot_n += 1\n",
    "        plt.show()"
   ]
  },
  {
   "cell_type": "code",
   "execution_count": 247,
   "metadata": {},
   "outputs": [],
   "source": [
    "tnet = nn.Sequential(nn.Linear(28*28, 10), nn.ReLU(), nn.LogSoftmax())\n",
    "crit = nn.NLLLoss()"
   ]
  },
  {
   "cell_type": "code",
   "execution_count": 248,
   "metadata": {},
   "outputs": [],
   "source": [
    "opt = optim.SGD(tnet.parameters(), lr=0.01)"
   ]
  },
  {
   "cell_type": "code",
   "execution_count": 249,
   "metadata": {},
   "outputs": [
    {
     "name": "stdout",
     "output_type": "stream",
     "text": [
      "1 acc:66.536, loss:1.457, val_loss:0.929\n",
      "2 acc:84.010, loss:0.772, val_loss:0.605\n",
      "3 acc:86.112, loss:0.603, val_loss:0.510\n",
      "4 acc:87.044, loss:0.533, val_loss:0.462\n",
      "5 acc:87.586, loss:0.492, val_loss:0.432\n",
      "6 acc:88.060, loss:0.465, val_loss:0.410\n",
      "7 acc:88.440, loss:0.445, val_loss:0.395\n",
      "8 acc:88.680, loss:0.429, val_loss:0.383\n",
      "9 acc:88.906, loss:0.417, val_loss:0.373\n",
      "10 acc:89.140, loss:0.407, val_loss:0.365\n",
      "11 acc:89.278, loss:0.398, val_loss:0.358\n",
      "12 acc:89.428, loss:0.391, val_loss:0.352\n",
      "13 acc:89.570, loss:0.384, val_loss:0.347\n",
      "14 acc:89.698, loss:0.379, val_loss:0.342\n",
      "15 acc:89.778, loss:0.373, val_loss:0.338\n",
      "16 acc:89.888, loss:0.369, val_loss:0.335\n",
      "17 acc:89.984, loss:0.365, val_loss:0.332\n",
      "18 acc:90.098, loss:0.361, val_loss:0.329\n",
      "19 acc:90.114, loss:0.357, val_loss:0.326\n",
      "20 acc:90.230, loss:0.354, val_loss:0.324\n"
     ]
    }
   ],
   "source": [
    "fit(tnet, X_traint, y_traint, X_validt, y_validt, crit, opt, n_epochs=20)"
   ]
  },
  {
   "cell_type": "code",
   "execution_count": 222,
   "metadata": {},
   "outputs": [
    {
     "data": {
      "image/png": "[encoded data removed]",
      "text/plain": [
       "<Figure size 1080x720 with 16 Axes>"
      ]
     },
     "metadata": {
      "needs_background": "light"
     },
     "output_type": "display_data"
    }
   ],
   "source": [
    "view_some_preds(tnet, X_traint, y_traint)"
   ]
  },
  {
   "cell_type": "code",
   "execution_count": null,
   "metadata": {},
   "outputs": [],
   "source": [
    "mynet = Sequential(Linear(28*28, 10), ReLU(), LogSoftmax())\n",
    "myloss = \"\""
   ]
  }
 ],
 "metadata": {
  "kernelspec": {
   "display_name": "Python 3",
   "language": "python",
   "name": "python3"
  },
  "language_info": {
   "codemirror_mode": {
    "name": "ipython",
    "version": 3
   },
   "file_extension": ".py",
   "mimetype": "text/x-python",
   "name": "python",
   "nbconvert_exporter": "python",
   "pygments_lexer": "ipython3",
   "version": "3.6.8"
  }
 },
 "nbformat": 4,
 "nbformat_minor": 4
}
